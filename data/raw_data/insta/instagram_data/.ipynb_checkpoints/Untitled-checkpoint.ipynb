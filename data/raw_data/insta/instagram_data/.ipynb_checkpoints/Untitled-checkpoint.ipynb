{
 "cells": [
  {
   "cell_type": "code",
   "execution_count": 1,
   "metadata": {},
   "outputs": [],
   "source": [
    "import json\n",
    "import sys\n",
    "import glob"
   ]
  },
  {
   "cell_type": "code",
   "execution_count": 2,
   "metadata": {},
   "outputs": [],
   "source": [
    "filePath = glob.glob(\"./*\")"
   ]
  },
  {
   "cell_type": "code",
   "execution_count": 4,
   "metadata": {},
   "outputs": [],
   "source": [
    "fileCount = len(filePath)"
   ]
  },
  {
   "cell_type": "code",
   "execution_count": 5,
   "metadata": {},
   "outputs": [],
   "source": [
    "caption = []\n",
    "noncaption = []"
   ]
  },
  {
   "cell_type": "code",
   "execution_count": 8,
   "metadata": {},
   "outputs": [
    {
     "name": "stdout",
     "output_type": "stream",
     "text": [
      "cells\n",
      "metadata\n",
      "nbformat\n",
      "nbformat_minor\n"
     ]
    }
   ],
   "source": [
    "for i in range(fileCount):\n",
    "    with open(filePath[i], \"r\") as fp:\n",
    "        data = json.loads(fp.read())\n",
    "        if data:\n",
    "            for line in data:\n",
    "                if line:\n",
    "                    try:\n",
    "                        if not line['caption'] or line['caption'].startswith('Image may contain:') or line['caption'].startswith('No photo description available'):\n",
    "                            noncaption.append(line['caption'])\n",
    "                        else:\n",
    "                            caption.append(line['caption'])\n",
    "                    except:\n",
    "                        print(line)\n",
    "\n",
    "        "
   ]
  }
 ],
 "metadata": {
  "kernelspec": {
   "display_name": "Python 3",
   "language": "python",
   "name": "python3"
  },
  "language_info": {
   "codemirror_mode": {
    "name": "ipython",
    "version": 3
   },
   "file_extension": ".py",
   "mimetype": "text/x-python",
   "name": "python",
   "nbconvert_exporter": "python",
   "pygments_lexer": "ipython3",
   "version": "3.7.0"
  }
 },
 "nbformat": 4,
 "nbformat_minor": 2
}
