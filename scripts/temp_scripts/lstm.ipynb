{
 "cells": [
  {
   "cell_type": "code",
   "execution_count": null,
   "metadata": {},
   "outputs": [],
   "source": [
    "from keras.preprocessing.sequence import pad_sequences\n",
    "from keras.layers import Embedding, LSTM, Dense, Dropout\n",
    "from keras.preprocessing.text import Tokenizer\n",
    "from keras.callbacks import EarlyStopping\n",
    "from keras.models import Sequential\n",
    "import keras.utils as ku \n",
    "import numpy as np\n",
    "import itertools\n",
    "from glove import Corpus, Glove"
   ]
  },
  {
   "cell_type": "code",
   "execution_count": null,
   "metadata": {},
   "outputs": [],
   "source": [
    "tokenizer = Tokenizer()"
   ]
  },
  {
   "cell_type": "code",
   "execution_count": null,
   "metadata": {},
   "outputs": [],
   "source": [
    "def training_glove_weights(data):\n",
    "    corpus = Corpus() \n",
    "    corpus.fit(data,window=10)\n",
    "    glove = Glove(no_components=5, learning_rate=0.05)\n",
    "    glove.fit(corpus.matrix, epochs=30, no_threads=4, verbose=True)\n",
    "    glove.add_dictionary(corpus.dictionary)\n",
    "    glove.save('glove.model')"
   ]
  },
  {
   "cell_type": "code",
   "execution_count": null,
   "metadata": {},
   "outputs": [],
   "source": [
    "def getting_glove_weights():\n",
    "    glove_model=Glove.load('glove.model')\n",
    "    embedding_matrix2 = dict()\n",
    "    embedding_matrix2 = glove_model.dictionary\n",
    "    return embedding_matrix2"
   ]
  },
  {
   "cell_type": "code",
   "execution_count": null,
   "metadata": {},
   "outputs": [],
   "source": [
    "def getting_pretrained_glove_weights():\n",
    "    embeddings_index = dict()\n",
    "    f = open('glove.6B/glove.6B.100d.txt')\n",
    "    for line in f:\n",
    "        values = line.split()\n",
    "        word = values[0]\n",
    "        coefs = np.asarray(values[1:], dtype='float32')\n",
    "        embeddings_index[word] = coefs\n",
    "    f.close()\n",
    "    embedding_matrix = np.zeros((vocabulary_size, 100))\n",
    "    for word, index in tokenizer.word_index.items():\n",
    "        if index > vocabulary_size - 1:\n",
    "            break\n",
    "        else:\n",
    "            embedding_vector = embeddings_index.get(word)\n",
    "            if embedding_vector is not None:\n",
    "                embedding_matrix[index] = embedding_vector\n",
    "    return embedding_matrix"
   ]
  },
  {
   "cell_type": "code",
   "execution_count": null,
   "metadata": {},
   "outputs": [],
   "source": [
    "def dataset_preparation(data):\n",
    "    corpus = data.lower().split(\"\\n\")\n",
    "    tokenizer.fit_on_texts(corpus)\n",
    "    total_words = len(tokenizer.word_index) + 1\n",
    "    input_sequences = []\n",
    "    for line in corpus:\n",
    "        token_list = tokenizer.texts_to_sequences([line])[0]\n",
    "        for i in range(1,len(token_list)):\n",
    "            n_gram_sequence = token_list[:i+1]\n",
    "            input_sequences.append(n_gram_sequence)\n",
    "    max_sequence_len = max([len(x) for x in input_sequences])\n",
    "    input_sequences = np.array(pad_sequences(input_sequences,maxlen = max_sequence_len, padding = 'pre'))\n",
    "    predictors = input_sequences[:,:-1]\n",
    "    labels = input_sequences[:,-1]\n",
    "    labels = ku.to_categorical(labels,num_classes=total_words)\n",
    "    return predictors,labels,max_sequence_len,total_words"
   ]
  },
  {
   "cell_type": "code",
   "execution_count": null,
   "metadata": {},
   "outputs": [],
   "source": [
    "def create_model(predictors,labels,max_sequence_len,total_words):\n",
    "    input_len = max_sequence_len - 1\n",
    "    model = Sequential()\n",
    "    model.add(Embedding(total_words, 100 , input_length = input_len))\n",
    "    model.add(LSTM(512))\n",
    "    model.add(LSTM(512))\n",
    "    model.add(Dropout(0.1))\n",
    "    model.add(Dense(total_words, activation='softmax'))\n",
    "    model.compile(loss='categorical_crossentropy',optimizer='adam')\n",
    "    model.fit(predictors,labels,epochs=100,verbose=1)\n",
    "    print(model.summary)\n",
    "    return model"
   ]
  },
  {
   "cell_type": "code",
   "execution_count": null,
   "metadata": {},
   "outputs": [],
   "source": [
    "def create_model_glove(predictors,labels,max_sequence_len,total_words,embedding_matrix):\n",
    "    input_len = max_sequence_len - 1\n",
    "    model = Sequential()\n",
    "    model.add(Embedding(total_words, 100, input_length = input_len , weights=[embedding_matrix], trainable=False))\n",
    "    model.add(LSTM(512))\n",
    "    model.add(LSTM(512))\n",
    "    model.add(Dropout(0.1))\n",
    "    model.add(Dense(total_words, activation='softmax'))\n",
    "    model.compile(loss='categorical_crossentropy',optimizer='adam')\n",
    "    model.fit(predictors,labels,epochs=100,verbose=1)\n",
    "    print(model.summary)\n",
    "    return model"
   ]
  },
  {
   "cell_type": "code",
   "execution_count": null,
   "metadata": {},
   "outputs": [],
   "source": [
    "def generate_conditioned_text(input_words,no_of_next_words,max_sequence_len,model):\n",
    "    for j in range(no_of_next_words):\n",
    "        token_list = tokenizer.texts_to_sequences([input_words])[0]\n",
    "        token_list = pad_sequences([token_list],maxlen = max_sequence_len-1,padding='pre')\n",
    "        predicted = model.predict_classes(token_list,verbose = 0)\n",
    "        output_word = \"\"\n",
    "        for word,index in tokenizer.word_index.items():\n",
    "            if(index == predicted):\n",
    "                output_word = word\n",
    "                break\n",
    "        input_words += \" \"+output_word\n",
    "    return input_words"
   ]
  },
  {
   "cell_type": "code",
   "execution_count": null,
   "metadata": {},
   "outputs": [],
   "source": [
    "def generate_unconditioned_text(no_of_next_words,max_sequence_len,model):\n",
    "    for j in range(no_of_next_words):\n",
    "        token_list = pad_sequences([],maxlen = max_sequence_len-1,padding='pre')\n",
    "        predicted = model.predict_classes(token_list,verbose = 0)\n",
    "        output_word = \"\"\n",
    "        for word,index in tokenizer.word_index.items():\n",
    "            if(index == predicted):\n",
    "                output_word = word\n",
    "                break\n",
    "        input_words += \" \"+output_word\n",
    "    return input_words"
   ]
  },
  {
   "cell_type": "code",
   "execution_count": null,
   "metadata": {},
   "outputs": [],
   "source": [
    "predictors,labels,max_sequence_len,total_words = dataset_preparation(data)\n",
    "model = create_model(predictors,labels,max_sequence_len,total_words)"
   ]
  },
  {
   "cell_type": "code",
   "execution_count": null,
   "metadata": {},
   "outputs": [],
   "source": [
    "embedding_matrix = getting_pretrained_glove_weights()\n",
    "glove_model = create_model_glove(predictors,labels,max_sequence_len,total_words,embedding_matrix)"
   ]
  },
  {
   "cell_type": "code",
   "execution_count": null,
   "metadata": {},
   "outputs": [],
   "source": [
    "training_glove_weights(data)\n",
    "embedding_matrix2 = getting_glove_weights()\n",
    "glove_model2 = create_model_glove(predictors,labels,max_sequence_len,total_words,embedding_matrix2)"
   ]
  },
  {
   "cell_type": "code",
   "execution_count": null,
   "metadata": {},
   "outputs": [],
   "source": [
    "output = generate_conditioned_text(\"we are\",3,max_sequence_len,model)\n",
    "print(output)"
   ]
  },
  {
   "cell_type": "code",
   "execution_count": null,
   "metadata": {},
   "outputs": [],
   "source": [
    "output = generate_unconditioned_text(3,max_sequence_len,model)\n",
    "print(output)"
   ]
  },
  {
   "cell_type": "code",
   "execution_count": null,
   "metadata": {},
   "outputs": [],
   "source": [
    "output = generate_conditioned_text(\"we are\",3,max_sequence_len,glove_model)\n",
    "print(output)"
   ]
  },
  {
   "cell_type": "code",
   "execution_count": null,
   "metadata": {},
   "outputs": [],
   "source": [
    "output = generate_unconditioned_text(\"we are\",3,max_sequence_len,glove_model)\n",
    "print(output)"
   ]
  }
 ],
 "metadata": {
  "kernelspec": {
   "display_name": "Python 3",
   "language": "python",
   "name": "python3"
  },
  "language_info": {
   "codemirror_mode": {
    "name": "ipython",
    "version": 3
   },
   "file_extension": ".py",
   "mimetype": "text/x-python",
   "name": "python",
   "nbconvert_exporter": "python",
   "pygments_lexer": "ipython3",
   "version": "3.7.4"
  }
 },
 "nbformat": 4,
 "nbformat_minor": 2
}
